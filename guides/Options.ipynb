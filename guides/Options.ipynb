{
 "cells": [
  {
   "cell_type": "code",
   "execution_count": 1,
   "metadata": {},
   "outputs": [],
   "source": [
    "import \"github.com/ptiger10/pd/options\"\n",
    "import \"github.com/ptiger10/pd\""
   ]
  },
  {
   "cell_type": "code",
   "execution_count": 2,
   "metadata": {},
   "outputs": [
    {
     "name": "stdout",
     "output_type": "stream",
     "text": [
      "0           foo\n",
      "1           bar\n",
      "2    foobarb...\n",
      "\n",
      "datatype: string\n",
      "\n",
      "<nil>\n"
     ]
    }
   ],
   "source": [
    "options.RestoreDefaults()\n",
    "options.SetDisplayMaxWidth(10)\n",
    "pd.Series([]string{\"foo\", \"bar\", \"foobarbazbang\"})"
   ]
  },
  {
   "cell_type": "code",
   "execution_count": 3,
   "metadata": {},
   "outputs": [
    {
     "name": "stdout",
     "output_type": "stream",
     "text": [
      "0    1\n",
      "1    2\n",
      "2    3\n",
      "\n",
      "datatype: float64\n",
      "\n",
      "<nil>\n"
     ]
    }
   ],
   "source": [
    "options.RestoreDefaults()\n",
    "options.SetDisplayFloatPrecision(0)\n",
    "pd.Series([]float64{1, 2, 3})"
   ]
  },
  {
   "cell_type": "code",
   "execution_count": 8,
   "metadata": {},
   "outputs": [
    {
     "name": "stdout",
     "output_type": "stream",
     "text": [
      "foo A    1.00\n",
      "    B    2.00\n",
      "bar C    3.00\n",
      "\n",
      "datatype: float64\n",
      "\n",
      "<nil>\n"
     ]
    }
   ],
   "source": [
    "pd.Series([]float64{1, 2, 3}, pd.Config{\n",
    "    MultiIndex: []interface{}{[]string{\"foo\", \"foo\", \"bar\"}, []string{\"A\", \"B\", \"C\"}}})"
   ]
  },
  {
   "cell_type": "code",
   "execution_count": 9,
   "metadata": {},
   "outputs": [
    {
     "name": "stdout",
     "output_type": "stream",
     "text": [
      "foo A    1.00\n",
      "foo B    2.00\n",
      "bar C    3.00\n",
      "\n",
      "datatype: float64\n",
      "\n",
      "<nil>\n"
     ]
    }
   ],
   "source": [
    "options.RestoreDefaults()\n",
    "options.SetDisplayRepeatedLabels(true)\n",
    "pd.Series([]float64{1, 2, 3}, pd.Config{\n",
    "    MultiIndex: []interface{}{[]string{\"foo\", \"foo\", \"bar\"}, []string{\"A\", \"B\", \"C\"}}})"
   ]
  },
  {
   "cell_type": "code",
   "execution_count": 5,
   "metadata": {
    "scrolled": true
   },
   "outputs": [
    {
     "name": "stdout",
     "output_type": "stream",
     "text": [
      "0    #ERR\n",
      "1     foo\n",
      "\n",
      "datatype: string\n",
      "\n",
      "<nil>\n"
     ]
    }
   ],
   "source": [
    "options.RestoreDefaults()\n",
    "options.SetDisplayStringNullFiller(\"#ERR\")\n",
    "pd.Series([]string{\"\", \"foo\"})"
   ]
  },
  {
   "cell_type": "code",
   "execution_count": 6,
   "metadata": {},
   "outputs": [
    {
     "name": "stdout",
     "output_type": "stream",
     "text": [
      "0    01/01/2019\n",
      "\n",
      "datatype: dateTime\n",
      "\n",
      "<nil>\n"
     ]
    }
   ],
   "source": [
    "import \"time\"\n",
    "options.RestoreDefaults()\n",
    "options.SetDisplayTimeFormat(\"01/02/2006\")\n",
    "pd.Series([]time.Time{time.Date(2019,1,1,0,0,0,0,time.UTC)})"
   ]
  },
  {
   "cell_type": "code",
   "execution_count": 7,
   "metadata": {},
   "outputs": [
    {
     "name": "stdout",
     "output_type": "stream",
     "text": [
      "0    NaN\n",
      "1    foo\n",
      "\n",
      "datatype: string\n",
      "\n",
      "<nil>\n"
     ]
    }
   ],
   "source": [
    "options.RestoreDefaults()\n",
    "options.SetStringNullValues([]string{\"#REF\"})\n",
    "pd.Series([]string{\"#REF\", \"foo\"})"
   ]
  }
 ],
 "metadata": {
  "kernelspec": {
   "display_name": "Go (lgo)",
   "language": "go",
   "name": "lgo"
  },
  "language_info": {
   "file_extension": "",
   "mimetype": "",
   "name": "go",
   "version": ""
  }
 },
 "nbformat": 4,
 "nbformat_minor": 2
}
