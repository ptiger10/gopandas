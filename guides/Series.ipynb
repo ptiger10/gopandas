{
 "cells": [
  {
   "cell_type": "code",
   "execution_count": 1,
   "metadata": {},
   "outputs": [],
   "source": [
    "import \"github.com/ptiger10/pd\"\n",
    "import \"time\""
   ]
  },
  {
   "cell_type": "markdown",
   "metadata": {},
   "source": [
    "# Constructor"
   ]
  },
  {
   "cell_type": "code",
   "execution_count": 2,
   "metadata": {},
   "outputs": [
    {
     "name": "stdout",
     "output_type": "stream",
     "text": [
      "0    foo\n",
      "\n",
      "datatype: string\n",
      "\n",
      "<nil>\n"
     ]
    }
   ],
   "source": [
    "pd.Series(\"foo\")"
   ]
  },
  {
   "cell_type": "code",
   "execution_count": 3,
   "metadata": {},
   "outputs": [
    {
     "name": "stdout",
     "output_type": "stream",
     "text": [
      "0    1.50\n",
      "1    2.50\n",
      "2    3.00\n",
      "\n",
      "datatype: float64\n",
      "\n",
      "<nil>\n"
     ]
    }
   ],
   "source": [
    "pd.Series([]float64{1.5, 2.5, 3})"
   ]
  },
  {
   "cell_type": "code",
   "execution_count": 4,
   "metadata": {},
   "outputs": [
    {
     "name": "stdout",
     "output_type": "stream",
     "text": [
      "0    1\n",
      "1    2\n",
      "2    3\n",
      "\n",
      "datatype: int64\n",
      "name: foo\n",
      "\n",
      "<nil>\n"
     ]
    }
   ],
   "source": [
    "pd.Series([]int64{1, 2, 3}, pd.Config{Name: \"foo\"})"
   ]
  },
  {
   "cell_type": "code",
   "execution_count": 5,
   "metadata": {},
   "outputs": [
    {
     "name": "stdout",
     "output_type": "stream",
     "text": [
      "baz    foo\n",
      "quz    bar\n",
      "\n",
      "datatype: string\n",
      "\n",
      "<nil>\n"
     ]
    }
   ],
   "source": [
    "pd.Series([]string{\"foo\", \"bar\"}, pd.Config{Index: []string{\"baz\", \"quz\"}})"
   ]
  },
  {
   "cell_type": "code",
   "execution_count": 6,
   "metadata": {},
   "outputs": [
    {
     "name": "stdout",
     "output_type": "stream",
     "text": [
      "foo\n",
      "  0     true\n",
      "  1    false\n",
      "\n",
      "datatype: bool\n",
      "\n",
      "<nil>\n"
     ]
    }
   ],
   "source": [
    "pd.Series([]bool{true, false}, pd.Config{IndexName: \"foo\"})"
   ]
  },
  {
   "cell_type": "code",
   "execution_count": 7,
   "metadata": {},
   "outputs": [
    {
     "name": "stdout",
     "output_type": "stream",
     "text": [
      "bar\n",
      "foo    1/1/2019T00:00:00\n",
      "\n",
      "datatype: dateTime\n",
      "name: foobar\n",
      "\n",
      "<nil>\n"
     ]
    }
   ],
   "source": [
    "pd.Series(time.Date(2019, 1, 1, 0,0,0,0, time.UTC), pd.Config{Index: \"foo\", IndexName: \"bar\", Name: \"foobar\"})"
   ]
  },
  {
   "cell_type": "code",
   "execution_count": 8,
   "metadata": {},
   "outputs": [
    {
     "name": "stdout",
     "output_type": "stream",
     "text": [
      "0    1.00\n",
      "1     NaN\n",
      "2    1.50\n",
      "3    2.50\n",
      "\n",
      "datatype: float64\n",
      "\n",
      "<nil>\n"
     ]
    }
   ],
   "source": [
    "import \"github.com/ptiger10/pd/options\"\n",
    "pd.Series([]interface{}{\"1\", \"\", 1.5, \"2.5\"}, pd.Config{DataType: options.Float64})"
   ]
  },
  {
   "cell_type": "markdown",
   "metadata": {},
   "source": [
    "### MultiIndex"
   ]
  },
  {
   "cell_type": "code",
   "execution_count": 9,
   "metadata": {},
   "outputs": [
    {
     "name": "stdout",
     "output_type": "stream",
     "text": [
      "bar baz    foo\n",
      "\n",
      "datatype: string\n",
      "\n",
      "<nil>\n"
     ]
    }
   ],
   "source": [
    "pd.Series(\"foo\", pd.Config{MultiIndex: []interface{}{\"bar\", \"baz\"}})"
   ]
  },
  {
   "cell_type": "code",
   "execution_count": 10,
   "metadata": {},
   "outputs": [
    {
     "name": "stdout",
     "output_type": "stream",
     "text": [
      "  A     B\n",
      "baz  quuz    foo\n",
      "qux corge    bar\n",
      "\n",
      "datatype: string\n",
      "\n",
      "<nil>\n"
     ]
    }
   ],
   "source": [
    "pd.Series(\n",
    "    []string{\"foo\", \"bar\"},\n",
    "    pd.Config{\n",
    "        MultiIndex: []interface{}{[]string{\"baz\", \"qux\"}, []string{\"quuz\", \"corge\"}}, \n",
    "        MultiIndexNames: []string{\"A\", \"B\"}})"
   ]
  },
  {
   "cell_type": "markdown",
   "metadata": {},
   "source": [
    "## Describe"
   ]
  },
  {
   "cell_type": "code",
   "execution_count": 11,
   "metadata": {},
   "outputs": [
    {
     "name": "stdout",
     "output_type": "stream",
     "text": [
      "foo\n"
     ]
    }
   ],
   "source": [
    "s, _ := pd.Series([]string{\"foo\", \"bar\", \"baz\"})\n",
    "s.At(0)"
   ]
  },
  {
   "cell_type": "code",
   "execution_count": 12,
   "metadata": {},
   "outputs": [
    {
     "name": "stdout",
     "output_type": "stream",
     "text": [
      "0    foo\n",
      "1    bar\n",
      "\n",
      "datatype: string\n",
      "\n"
     ]
    }
   ],
   "source": [
    "s, _ := pd.Series([]string{\"foo\", \"bar\", \"baz\"})\n",
    "s.From(0, 1)"
   ]
  },
  {
   "cell_type": "code",
   "execution_count": null,
   "metadata": {},
   "outputs": [],
   "source": [
    "s, _ := pd.Series([]string{\"foo\", \"bar\", \"baz\"}, pd.Config{Name: \"waldo\"})\n",
    "s.Value(0)"
   ]
  },
  {
   "cell_type": "code",
   "execution_count": null,
   "metadata": {},
   "outputs": [],
   "source": [
    "s, _ := pd.Series([]string{\"foo\", \"bar\", \"baz\"}, pd.Config{Name: \"waldo\"})\n",
    "s.Null(0)"
   ]
  },
  {
   "cell_type": "code",
   "execution_count": 13,
   "metadata": {},
   "outputs": [
    {
     "name": "stdout",
     "output_type": "stream",
     "text": [
      "     Value: foo\n",
      "      Null: false\n",
      "    Labels: [0]\n",
      "LabelTypes: [int64]\n",
      "\n"
     ]
    }
   ],
   "source": [
    "s, _ := pd.Series([]string{\"foo\", \"bar\", \"baz\"}, pd.Config{Name: \"waldo\"})\n",
    "s.Element(0)"
   ]
  },
  {
   "cell_type": "code",
   "execution_count": 14,
   "metadata": {},
   "outputs": [
    {
     "name": "stdout",
     "output_type": "stream",
     "text": [
      "[foo bar baz]\n"
     ]
    }
   ],
   "source": [
    "s, _ := pd.Series([]string{\"foo\", \"bar\", \"baz\"})\n",
    "s.Values()"
   ]
  },
  {
   "cell_type": "code",
   "execution_count": 15,
   "metadata": {},
   "outputs": [
    {
     "name": "stdout",
     "output_type": "stream",
     "text": [
      "string\n"
     ]
    }
   ],
   "source": [
    "s, _ := pd.Series([]string{\"foo\", \"bar\", \"baz\"})\n",
    "s.DataType()"
   ]
  },
  {
   "cell_type": "code",
   "execution_count": 16,
   "metadata": {},
   "outputs": [
    {
     "name": "stdout",
     "output_type": "stream",
     "text": [
      "waldo\n"
     ]
    }
   ],
   "source": [
    "s, _ := pd.Series([]string{\"foo\", \"bar\", \"baz\"}, pd.Config{Name: \"waldo\"})\n",
    "s.Name()"
   ]
  },
  {
   "cell_type": "code",
   "execution_count": 17,
   "metadata": {},
   "outputs": [
    {
     "name": "stdout",
     "output_type": "stream",
     "text": [
      "[foo baz bar]\n"
     ]
    }
   ],
   "source": [
    "s, _ := pd.Series([]string{\"foo\", \"foo\", \"baz\", \"baz\", \"bar\"})\n",
    "s.Unique()"
   ]
  },
  {
   "cell_type": "code",
   "execution_count": 18,
   "metadata": {},
   "outputs": [
    {
     "name": "stdout",
     "output_type": "stream",
     "text": [
      "map[baz:2 bar:1 foo:2]\n"
     ]
    }
   ],
   "source": [
    "s, _ := pd.Series([]string{\"foo\", \"foo\", \"baz\", \"baz\", \"bar\"})\n",
    "s.ValueCounts()"
   ]
  },
  {
   "cell_type": "code",
   "execution_count": 19,
   "metadata": {},
   "outputs": [
    {
     "name": "stdout",
     "output_type": "stream",
     "text": [
      "  len       3\n",
      "valid       3\n",
      " null       0\n",
      " mean    2.00\n",
      "  min    1.00\n",
      "  25%    1.00\n",
      "  50%    2.00\n",
      "  75%    3.00\n",
      "  max    3.00\n",
      "\n",
      "datatype: float64\n",
      "\n"
     ]
    }
   ],
   "source": [
    "s, _ := pd.Series([]float64{1, 2, 3})\n",
    "s.Describe()"
   ]
  },
  {
   "cell_type": "code",
   "execution_count": 20,
   "metadata": {},
   "outputs": [
    {
     "name": "stdout",
     "output_type": "stream",
     "text": [
      "   len    3\n",
      " valid    3\n",
      "  null    0\n",
      "unique    3\n",
      "\n",
      "datatype: string\n",
      "name: waldo\n",
      "\n"
     ]
    }
   ],
   "source": [
    "s, _ := pd.Series([]string{\"foo\", \"bar\", \"baz\"}, pd.Config{Name: \"waldo\"})\n",
    "s.Describe()"
   ]
  },
  {
   "cell_type": "code",
   "execution_count": 21,
   "metadata": {},
   "outputs": [
    {
     "name": "stdout",
     "output_type": "stream",
     "text": [
      "     len                                1\n",
      "   valid                                1\n",
      "    null                                0\n",
      "  unique                                1\n",
      "earliest    2019-01-01 00:00:00 +0000 UTC\n",
      "  latest    2019-01-01 00:00:00 +0000 UTC\n",
      "\n",
      "datatype: dateTime\n",
      "\n"
     ]
    }
   ],
   "source": [
    "s, _ := pd.Series(time.Date(2019, 1, 1, 0,0,0,0, time.UTC))\n",
    "s.Describe()"
   ]
  },
  {
   "cell_type": "markdown",
   "metadata": {},
   "source": [
    "## Modify"
   ]
  },
  {
   "cell_type": "markdown",
   "metadata": {},
   "source": [
    "### Modify in place"
   ]
  },
  {
   "cell_type": "code",
   "execution_count": 22,
   "metadata": {},
   "outputs": [
    {
     "name": "stdout",
     "output_type": "stream",
     "text": [
      "{InPlace Series Handler}\n",
      "Methods:\n",
      "Append\n",
      "Apply\n",
      "Drop\n",
      "DropDuplicates\n",
      "DropNull\n",
      "DropRows\n",
      "Insert\n",
      "Join\n",
      "Len\n",
      "Less\n",
      "Set\n",
      "SetRows\n",
      "Sort\n",
      "String\n",
      "Subset\n",
      "Swap\n",
      "ToBool\n",
      "ToDateTime\n",
      "ToFloat64\n",
      "ToInt64\n",
      "ToInterface\n",
      "ToString\n",
      "\n"
     ]
    }
   ],
   "source": [
    "s, _ := pd.Series([]string{\"foo\", \"bar\", \"baz\"})\n",
    "s.InPlace"
   ]
  },
  {
   "cell_type": "code",
   "execution_count": 23,
   "metadata": {},
   "outputs": [
    {
     "name": "stdout",
     "output_type": "stream",
     "text": [
      "1    bar\n",
      "2    baz\n",
      "0    foo\n",
      "\n",
      "datatype: string\n",
      "\n"
     ]
    }
   ],
   "source": [
    "s, _ := pd.Series([]string{\"foo\", \"bar\", \"baz\"})\n",
    "s.InPlace.Sort(true)\n",
    "s"
   ]
  },
  {
   "cell_type": "code",
   "execution_count": 24,
   "metadata": {},
   "outputs": [
    {
     "name": "stdout",
     "output_type": "stream",
     "text": [
      "0    foo\n",
      "2    baz\n",
      "1    bar\n",
      "\n",
      "datatype: string\n",
      "\n"
     ]
    }
   ],
   "source": [
    "s, _ := pd.Series([]string{\"foo\", \"bar\", \"baz\"})\n",
    "s.InPlace.Sort(false)\n",
    "s"
   ]
  },
  {
   "cell_type": "code",
   "execution_count": 25,
   "metadata": {},
   "outputs": [
    {
     "name": "stdout",
     "output_type": "stream",
     "text": [
      "2    baz\n",
      "1    bar\n",
      "0    foo\n",
      "\n",
      "datatype: string\n",
      "\n"
     ]
    }
   ],
   "source": [
    "s, _ := pd.Series([]string{\"foo\", \"bar\", \"baz\"})\n",
    "s.InPlace.Swap(0, 2)\n",
    "s"
   ]
  },
  {
   "cell_type": "code",
   "execution_count": 26,
   "metadata": {},
   "outputs": [
    {
     "name": "stdout",
     "output_type": "stream",
     "text": [
      " 0    foo\n",
      "99    qux\n",
      " 1    bar\n",
      " 2    baz\n",
      "\n",
      "datatype: string\n",
      "\n"
     ]
    }
   ],
   "source": [
    "s, _ := pd.Series([]string{\"foo\", \"bar\", \"baz\"})\n",
    "_ = s.InPlace.Insert(1, \"qux\", 99)\n",
    "s"
   ]
  },
  {
   "cell_type": "code",
   "execution_count": 27,
   "metadata": {},
   "outputs": [
    {
     "name": "stdout",
     "output_type": "stream",
     "text": [
      "0    foo\n",
      "1    qux\n",
      "2    bar\n",
      "3    baz\n",
      "\n",
      "datatype: string\n",
      "\n"
     ]
    }
   ],
   "source": [
    "s, _ := pd.Series([]string{\"foo\", \"bar\", \"baz\"})\n",
    "_ = s.InPlace.Insert(1, \"qux\")\n",
    "s"
   ]
  },
  {
   "cell_type": "code",
   "execution_count": 28,
   "metadata": {},
   "outputs": [
    {
     "name": "stdout",
     "output_type": "stream",
     "text": [
      " 0    foo\n",
      " 1    bar\n",
      " 2    baz\n",
      "99    qux\n",
      "\n",
      "datatype: string\n",
      "\n"
     ]
    }
   ],
   "source": [
    "s, _ := pd.Series([]string{\"foo\", \"bar\", \"baz\"})\n",
    "_ = s.InPlace.Append(\"qux\", 99)\n",
    "s"
   ]
  },
  {
   "cell_type": "code",
   "execution_count": 29,
   "metadata": {},
   "outputs": [
    {
     "name": "stdout",
     "output_type": "stream",
     "text": [
      "0    foo\n",
      "1    bar\n",
      "2    baz\n",
      "3    qux\n",
      "\n",
      "datatype: string\n",
      "\n"
     ]
    }
   ],
   "source": [
    "s, _ := pd.Series([]string{\"foo\", \"bar\", \"baz\"})\n",
    "_ = s.InPlace.Append(\"qux\")\n",
    "s"
   ]
  },
  {
   "cell_type": "code",
   "execution_count": 30,
   "metadata": {},
   "outputs": [
    {
     "name": "stdout",
     "output_type": "stream",
     "text": [
      "0    foo\n",
      "1    bar\n",
      "2    qux\n",
      "\n",
      "datatype: string\n",
      "\n"
     ]
    }
   ],
   "source": [
    "s, _ := pd.Series([]string{\"foo\", \"bar\", \"baz\"})\n",
    "_ = s.InPlace.Set(2, \"qux\")\n",
    "s"
   ]
  },
  {
   "cell_type": "code",
   "execution_count": 31,
   "metadata": {},
   "outputs": [
    {
     "name": "stdout",
     "output_type": "stream",
     "text": [
      "0    foo\n",
      "1    qux\n",
      "2    qux\n",
      "\n",
      "datatype: string\n",
      "\n"
     ]
    }
   ],
   "source": [
    "s, _ := pd.Series([]string{\"foo\", \"bar\", \"baz\"})\n",
    "_ = s.InPlace.SetRows([]int{1, 2}, \"qux\")\n",
    "s"
   ]
  },
  {
   "cell_type": "code",
   "execution_count": 32,
   "metadata": {},
   "outputs": [
    {
     "name": "stdout",
     "output_type": "stream",
     "text": [
      "0    foo\n",
      "1    bar\n",
      "\n",
      "datatype: string\n",
      "\n"
     ]
    }
   ],
   "source": [
    "s, _ := pd.Series([]string{\"foo\", \"bar\", \"baz\"})\n",
    "_ = s.InPlace.Drop(2)\n",
    "s"
   ]
  },
  {
   "cell_type": "code",
   "execution_count": 33,
   "metadata": {},
   "outputs": [
    {
     "name": "stdout",
     "output_type": "stream",
     "text": [
      "0    foo\n",
      "\n",
      "datatype: string\n",
      "\n"
     ]
    }
   ],
   "source": [
    "s, _ := pd.Series([]string{\"foo\", \"bar\", \"baz\"})\n",
    "_ = s.InPlace.DropRows([]int{1,2})\n",
    "s"
   ]
  },
  {
   "cell_type": "code",
   "execution_count": 34,
   "metadata": {},
   "outputs": [
    {
     "name": "stdout",
     "output_type": "stream",
     "text": [
      "0    foo\n",
      "2    baz\n",
      "\n",
      "datatype: string\n",
      "\n"
     ]
    }
   ],
   "source": [
    "s, _ := pd.Series([]string{\"foo\", \"\", \"baz\"})\n",
    "s.InPlace.DropNull()\n",
    "s"
   ]
  },
  {
   "cell_type": "code",
   "execution_count": 35,
   "metadata": {},
   "outputs": [
    {
     "name": "stdout",
     "output_type": "stream",
     "text": [
      "0    7.11\n",
      "1     NaN\n",
      "\n",
      "datatype: float64\n",
      "\n"
     ]
    }
   ],
   "source": [
    "s, _ := pd.Series([]string{\"7.11\", \"\"})\n",
    "s.InPlace.ToFloat64()\n",
    "s"
   ]
  },
  {
   "cell_type": "code",
   "execution_count": 36,
   "metadata": {},
   "outputs": [
    {
     "name": "stdout",
     "output_type": "stream",
     "text": [
      "0    7\n",
      "1    0\n",
      "\n",
      "datatype: int64\n",
      "\n"
     ]
    }
   ],
   "source": [
    "s, _ := pd.Series([]string{\"7.11\", \"\"})\n",
    "s.InPlace.ToInt64()\n",
    "s"
   ]
  },
  {
   "cell_type": "code",
   "execution_count": 37,
   "metadata": {},
   "outputs": [
    {
     "name": "stdout",
     "output_type": "stream",
     "text": [
      "0     1.5\n",
      "1     2.5\n",
      "2    7.11\n",
      "\n",
      "datatype: string\n",
      "\n"
     ]
    }
   ],
   "source": [
    "s, _ := pd.Series([]float64{1.5,2.5,7.11})\n",
    "s.InPlace.ToString()\n",
    "s"
   ]
  },
  {
   "cell_type": "code",
   "execution_count": 38,
   "metadata": {},
   "outputs": [
    {
     "name": "stdout",
     "output_type": "stream",
     "text": [
      "0     true\n",
      "1    false\n",
      "\n",
      "datatype: bool\n",
      "\n"
     ]
    }
   ],
   "source": [
    "s, _ := pd.Series([]string{\"7.11\", \"\"})\n",
    "s.InPlace.ToBool()\n",
    "s"
   ]
  },
  {
   "cell_type": "code",
   "execution_count": 39,
   "metadata": {},
   "outputs": [
    {
     "name": "stdout",
     "output_type": "stream",
     "text": [
      "0    1/1/2019T00:00:00\n",
      "1    2/1/2019T00:00:00\n",
      "2    3/1/2019T00:00:00\n",
      "3    4/1/2019T00:00:00\n",
      "\n",
      "datatype: dateTime\n",
      "\n"
     ]
    }
   ],
   "source": [
    "s, _ := pd.Series([]string{\"Jan 1, 2019\", \"2/1/2019\", \"2019/03/01\", \"2019-04-01\"})\n",
    "s.InPlace.ToDateTime()\n",
    "s"
   ]
  },
  {
   "cell_type": "code",
   "execution_count": 40,
   "metadata": {},
   "outputs": [
    {
     "name": "stdout",
     "output_type": "stream",
     "text": [
      "0    7.11\n",
      "1     NaN\n",
      "\n",
      "datatype: interface\n",
      "\n"
     ]
    }
   ],
   "source": [
    "s, _ := pd.Series([]string{\"7.11\", \"\"})\n",
    "s.InPlace.ToInterface()\n",
    "s"
   ]
  },
  {
   "cell_type": "markdown",
   "metadata": {},
   "source": [
    "### Return new copy"
   ]
  },
  {
   "cell_type": "code",
   "execution_count": 41,
   "metadata": {},
   "outputs": [
    {
     "name": "stdout",
     "output_type": "stream",
     "text": [
      "1    bar\n",
      "2    baz\n",
      "0    foo\n",
      "\n",
      "datatype: string\n",
      "\n"
     ]
    }
   ],
   "source": [
    "s, _ := pd.Series([]string{\"foo\", \"bar\", \"baz\"})\n",
    "s.Sort(true)"
   ]
  },
  {
   "cell_type": "code",
   "execution_count": 42,
   "metadata": {},
   "outputs": [
    {
     "name": "stdout",
     "output_type": "stream",
     "text": [
      "2    baz\n",
      "1    bar\n",
      "0    foo\n",
      "\n",
      "datatype: string\n",
      "\n",
      "<nil>\n"
     ]
    }
   ],
   "source": [
    "s, _ := pd.Series([]string{\"foo\", \"bar\", \"baz\"})\n",
    "s.Swap(0, 2)"
   ]
  },
  {
   "cell_type": "code",
   "execution_count": 43,
   "metadata": {},
   "outputs": [
    {
     "name": "stdout",
     "output_type": "stream",
     "text": [
      " 0    foo\n",
      "99    qux\n",
      " 1    bar\n",
      " 2    baz\n",
      "\n",
      "datatype: string\n",
      "\n",
      "<nil>\n"
     ]
    }
   ],
   "source": [
    "s, _ := pd.Series([]string{\"foo\", \"bar\", \"baz\"})\n",
    "s.Insert(1, \"qux\", 99)"
   ]
  },
  {
   "cell_type": "code",
   "execution_count": 44,
   "metadata": {},
   "outputs": [
    {
     "name": "stdout",
     "output_type": "stream",
     "text": [
      " 0    foo\n",
      " 1    bar\n",
      " 2    baz\n",
      "99    qux\n",
      "\n",
      "datatype: string\n",
      "\n",
      "<nil>\n"
     ]
    }
   ],
   "source": [
    "s, _ := pd.Series([]string{\"foo\", \"bar\", \"baz\"})\n",
    "s.Append(\"qux\", 99)"
   ]
  },
  {
   "cell_type": "code",
   "execution_count": 45,
   "metadata": {},
   "outputs": [
    {
     "name": "stdout",
     "output_type": "stream",
     "text": [
      "0    foo\n",
      "1    bar\n",
      "2    qux\n",
      "\n",
      "datatype: string\n",
      "\n",
      "<nil>\n"
     ]
    }
   ],
   "source": [
    "s, _ := pd.Series([]string{\"foo\", \"bar\", \"baz\"})\n",
    "s.Set(2, \"qux\")"
   ]
  },
  {
   "cell_type": "code",
   "execution_count": 46,
   "metadata": {},
   "outputs": [
    {
     "name": "stdout",
     "output_type": "stream",
     "text": [
      "0    foo\n",
      "1    qux\n",
      "2    qux\n",
      "\n",
      "datatype: string\n",
      "\n",
      "<nil>\n"
     ]
    }
   ],
   "source": [
    "s, _ := pd.Series([]string{\"foo\", \"bar\", \"baz\"})\n",
    "s.SetRows([]int{1, 2}, \"qux\")"
   ]
  },
  {
   "cell_type": "code",
   "execution_count": 47,
   "metadata": {},
   "outputs": [
    {
     "name": "stdout",
     "output_type": "stream",
     "text": [
      "0    foo\n",
      "1    bar\n",
      "\n",
      "datatype: string\n",
      "\n",
      "<nil>\n"
     ]
    }
   ],
   "source": [
    "s, _ := pd.Series([]string{\"foo\", \"bar\", \"baz\"})\n",
    "s.Drop(2)"
   ]
  },
  {
   "cell_type": "code",
   "execution_count": 48,
   "metadata": {},
   "outputs": [
    {
     "name": "stdout",
     "output_type": "stream",
     "text": [
      "0    foo\n",
      "\n",
      "datatype: string\n",
      "\n",
      "<nil>\n"
     ]
    }
   ],
   "source": [
    "s, _ := pd.Series([]string{\"foo\", \"bar\", \"baz\"})\n",
    "s.DropRows([]int{1,2})"
   ]
  },
  {
   "cell_type": "code",
   "execution_count": 49,
   "metadata": {},
   "outputs": [
    {
     "name": "stdout",
     "output_type": "stream",
     "text": [
      "0    foo\n",
      "2    baz\n",
      "\n",
      "datatype: string\n",
      "\n"
     ]
    }
   ],
   "source": [
    "s, _ := pd.Series([]string{\"foo\", \"\", \"baz\"})\n",
    "s.DropNull()"
   ]
  },
  {
   "cell_type": "code",
   "execution_count": 50,
   "metadata": {},
   "outputs": [
    {
     "name": "stdout",
     "output_type": "stream",
     "text": [
      "0    7.11\n",
      "1     NaN\n",
      "\n",
      "datatype: float64\n",
      "\n"
     ]
    }
   ],
   "source": [
    "s, _ := pd.Series([]string{\"7.11\", \"\"})\n",
    "s.ToFloat64()"
   ]
  },
  {
   "cell_type": "code",
   "execution_count": 51,
   "metadata": {},
   "outputs": [
    {
     "name": "stdout",
     "output_type": "stream",
     "text": [
      "0    7\n",
      "1    0\n",
      "\n",
      "datatype: int64\n",
      "\n"
     ]
    }
   ],
   "source": [
    "s, _ := pd.Series([]string{\"7.11\", \"\"})\n",
    "s.ToInt64()"
   ]
  },
  {
   "cell_type": "code",
   "execution_count": 52,
   "metadata": {},
   "outputs": [
    {
     "name": "stdout",
     "output_type": "stream",
     "text": [
      "0     1.5\n",
      "1     2.5\n",
      "2    7.11\n",
      "\n",
      "datatype: string\n",
      "\n"
     ]
    }
   ],
   "source": [
    "s, _ := pd.Series([]float64{1.5,2.5,7.11})\n",
    "s.ToString()"
   ]
  },
  {
   "cell_type": "code",
   "execution_count": 53,
   "metadata": {},
   "outputs": [
    {
     "name": "stdout",
     "output_type": "stream",
     "text": [
      "0     true\n",
      "1    false\n",
      "\n",
      "datatype: bool\n",
      "\n"
     ]
    }
   ],
   "source": [
    "s, _ := pd.Series([]string{\"7.11\", \"\"})\n",
    "s.ToBool()"
   ]
  },
  {
   "cell_type": "code",
   "execution_count": 54,
   "metadata": {},
   "outputs": [
    {
     "name": "stdout",
     "output_type": "stream",
     "text": [
      "0    1/1/2019T00:00:00\n",
      "1    2/1/2019T00:00:00\n",
      "2    3/1/2019T00:00:00\n",
      "3    4/1/2019T00:00:00\n",
      "\n",
      "datatype: dateTime\n",
      "\n"
     ]
    }
   ],
   "source": [
    "s, _ := pd.Series([]string{\"Jan 1, 2019\", \"2/1/2019\", \"2019/03/01\", \"2019-04-01\"})\n",
    "s.ToDateTime()"
   ]
  },
  {
   "cell_type": "code",
   "execution_count": 55,
   "metadata": {},
   "outputs": [
    {
     "name": "stdout",
     "output_type": "stream",
     "text": [
      "0    7.11\n",
      "1     NaN\n",
      "\n",
      "datatype: interface\n",
      "\n"
     ]
    }
   ],
   "source": [
    "s, _ := pd.Series([]string{\"7.11\", \"\"})\n",
    "s.ToInterface()"
   ]
  },
  {
   "cell_type": "markdown",
   "metadata": {},
   "source": [
    "## Index"
   ]
  },
  {
   "cell_type": "code",
   "execution_count": 56,
   "metadata": {},
   "outputs": [
    {
     "name": "stdout",
     "output_type": "stream",
     "text": [
      "{Series Index | Len: 3, NumLevels: 1}\n",
      "\n"
     ]
    }
   ],
   "source": [
    "s, _ := pd.Series([]float64{1, 2, 3}, pd.Config{Index: []string{\"foo\", \"bar\", \"baz\"}})\n",
    "s.Index"
   ]
  },
  {
   "cell_type": "code",
   "execution_count": 59,
   "metadata": {},
   "outputs": [
    {
     "name": "stdout",
     "output_type": "stream",
     "text": [
      "[[foo bar baz]]\n"
     ]
    }
   ],
   "source": [
    "s, _ := pd.Series([]float64{1, 2, 3}, pd.Config{Index: []string{\"foo\", \"bar\", \"baz\"}})\n",
    "s.Index.Values()"
   ]
  },
  {
   "cell_type": "code",
   "execution_count": 60,
   "metadata": {},
   "outputs": [
    {
     "name": "stdout",
     "output_type": "stream",
     "text": [
      "bar\n"
     ]
    }
   ],
   "source": [
    "s, _ := pd.Series([]float64{1, 2, 3}, pd.Config{Index: []string{\"foo\", \"bar\", \"baz\"}})\n",
    "s.Index.At(1, 0)"
   ]
  },
  {
   "cell_type": "code",
   "execution_count": 61,
   "metadata": {},
   "outputs": [
    {
     "name": "stdout",
     "output_type": "stream",
     "text": [
      "0\n"
     ]
    }
   ],
   "source": [
    "s, _ := pd.Series(\"foo\", pd.Config{\n",
    "    MultiIndex: []interface{}{\"bar\", \"baz\", \"qux\"}, MultiIndexNames: []string{\"waldo\", \"waldo\", \"fred\"}})\n",
    "s.Index.SelectName(\"waldo\")"
   ]
  },
  {
   "cell_type": "code",
   "execution_count": 62,
   "metadata": {},
   "outputs": [
    {
     "name": "stdout",
     "output_type": "stream",
     "text": [
      "[0 1 2]\n"
     ]
    }
   ],
   "source": [
    "s, _ := pd.Series(\"foo\", pd.Config{\n",
    "    MultiIndex: []interface{}{\"bar\", \"baz\", \"qux\"}, MultiIndexNames: []string{\"waldo\", \"waldo\", \"fred\"}})\n",
    "s.Index.SelectNames([]string{\"waldo\", \"fred\"})"
   ]
  },
  {
   "cell_type": "code",
   "execution_count": 63,
   "metadata": {},
   "outputs": [],
   "source": [
    "s, _ := pd.Series([]float64{1, 3, 5}, pd.Config{Index: []int{2, 0, 1}})\n",
    "s.Index.Sort(true)"
   ]
  },
  {
   "cell_type": "code",
   "execution_count": 64,
   "metadata": {},
   "outputs": [],
   "source": [
    "s, _ := pd.Series([]float64{1, 3, 5}, pd.Config{Index: []int{2, 0, 1}})\n",
    "s.Index.Sort(false)"
   ]
  },
  {
   "cell_type": "code",
   "execution_count": 65,
   "metadata": {},
   "outputs": [
    {
     "name": "stdout",
     "output_type": "stream",
     "text": [
      "quuz\n",
      " foo    1.00\n",
      " bar    2.00\n",
      " baz    3.00\n",
      "\n",
      "datatype: float64\n",
      "\n"
     ]
    }
   ],
   "source": [
    "s, _ := pd.Series([]float64{1, 2, 3}, pd.Config{Index: []string{\"foo\", \"bar\", \"baz\"}, IndexName: \"qux\"})\n",
    "s.Index.RenameLevel(0, \"quuz\")\n",
    "s"
   ]
  },
  {
   "cell_type": "code",
   "execution_count": 66,
   "metadata": {},
   "outputs": [
    {
     "name": "stdout",
     "output_type": "stream",
     "text": [
      "0    1.00\n",
      "1    2.00\n",
      "2    3.00\n",
      "\n",
      "datatype: float64\n",
      "\n"
     ]
    }
   ],
   "source": [
    "s, _ := pd.Series([]float64{1, 2, 3}, pd.Config{Index: []string{\"foo\", \"bar\", \"baz\"}})\n",
    "s.Index.Reindex(0)\n",
    "s"
   ]
  },
  {
   "cell_type": "code",
   "execution_count": 67,
   "metadata": {},
   "outputs": [
    {
     "name": "stdout",
     "output_type": "stream",
     "text": [
      "1    foo\n",
      "2    bar\n",
      "3    baz\n",
      "\n",
      "datatype: string\n",
      "\n",
      "<nil>\n"
     ]
    }
   ],
   "source": [
    "s, _ := pd.Series([]float64{1, 2, 3}, pd.Config{Index: []string{\"foo\", \"bar\", \"baz\"}})\n",
    "s.Index.Flip(0)"
   ]
  },
  {
   "cell_type": "code",
   "execution_count": 68,
   "metadata": {},
   "outputs": [
    {
     "name": "stdout",
     "output_type": "stream",
     "text": [
      "<nil>\n"
     ]
    }
   ],
   "source": [
    "s, _ := pd.Series(\"foo\", pd.Config{MultiIndex: []interface{}{\"bar\", \"baz\"}})\n",
    "s.Index.SwapLevels(0, 1)"
   ]
  },
  {
   "cell_type": "code",
   "execution_count": 69,
   "metadata": {},
   "outputs": [
    {
     "name": "stdout",
     "output_type": "stream",
     "text": [
      "<nil>\n"
     ]
    }
   ],
   "source": [
    "s, _ := pd.Series([]float64{1, 2, 3}, pd.Config{Index: []string{\"foo\", \"bar\", \"baz\"}})\n",
    "s.Index.InsertLevel(1, []string{\"corge\", \"waldo\", \"fred\"}, \"\")"
   ]
  },
  {
   "cell_type": "code",
   "execution_count": 70,
   "metadata": {},
   "outputs": [
    {
     "name": "stdout",
     "output_type": "stream",
     "text": [
      "s.Index.AppendLevel(): invalid index level: 3 (max: 0)\n"
     ]
    }
   ],
   "source": [
    "s, _ := pd.Series([]float64{1, 2, 3}, pd.Config{Index: []string{\"foo\", \"bar\", \"baz\"}})\n",
    "s.Index.AppendLevel([]string{\"corge\", \"waldo\", \"fred\"}, \"\")"
   ]
  },
  {
   "cell_type": "code",
   "execution_count": 71,
   "metadata": {},
   "outputs": [
    {
     "name": "stdout",
     "output_type": "stream",
     "text": [
      "<nil>\n"
     ]
    }
   ],
   "source": [
    "s, _ := pd.Series([]float64{1, 2, 3}, pd.Config{Index: []string{\"foo\", \"bar\", \"baz\"}})\n",
    "s.Index.Set(0, 0, \"qux\")"
   ]
  },
  {
   "cell_type": "code",
   "execution_count": 73,
   "metadata": {},
   "outputs": [
    {
     "name": "stdout",
     "output_type": "stream",
     "text": [
      "<nil>\n"
     ]
    }
   ],
   "source": [
    "s, _ := pd.Series(\"foo\", pd.Config{MultiIndex: []interface{}{\"bar\", \"baz\"}})\n",
    "s.Index.DropLevel(1)"
   ]
  },
  {
   "cell_type": "code",
   "execution_count": 76,
   "metadata": {},
   "outputs": [
    {
     "name": "stdout",
     "output_type": "stream",
     "text": [
      "<nil>\n"
     ]
    }
   ],
   "source": [
    "s, _ := pd.Series([]float64{1, 2, 3}, pd.Config{Index: []string{\"\", \"bar\", \"\"}})\n",
    "s.Index.DropNull(0)"
   ]
  },
  {
   "cell_type": "markdown",
   "metadata": {},
   "source": [
    "## Filter"
   ]
  },
  {
   "cell_type": "code",
   "execution_count": 77,
   "metadata": {},
   "outputs": [
    {
     "name": "stdout",
     "output_type": "stream",
     "text": [
      "1    11.00\n",
      "\n",
      "datatype: float64\n",
      "\n",
      "<nil>\n"
     ]
    }
   ],
   "source": [
    "// Independent of s\n",
    "s, _ := pd.Series([]float64{10, 11, 12, 13, 14, 15})\n",
    "\n",
    "f := func (val interface{}) bool {\n",
    "    if v := val.(float64); v > 10 && v < 12 {\n",
    "        return true\n",
    "    }\n",
    "    return false\n",
    "}\n",
    "s.Subset(s.Filter(f))\n"
   ]
  },
  {
   "cell_type": "code",
   "execution_count": 78,
   "metadata": {},
   "outputs": [
    {
     "name": "stdout",
     "output_type": "stream",
     "text": [
      "5    15.00\n",
      "\n",
      "datatype: float64\n",
      "\n",
      "<nil>\n"
     ]
    }
   ],
   "source": [
    "// Referencing values within s\n",
    "s, _ := pd.Series([]float64{10, 11, 12, 13, 14, 15})\n",
    "f := s.Filter(func (val interface{}) bool {\n",
    "    if val.(float64) == s.Max() {\n",
    "        return true\n",
    "    }\n",
    "    return false\n",
    "})\n",
    "s.Subset(f)"
   ]
  },
  {
   "cell_type": "code",
   "execution_count": 79,
   "metadata": {},
   "outputs": [
    {
     "name": "stdout",
     "output_type": "stream",
     "text": [
      "4    14.00\n",
      "5    15.00\n",
      "\n",
      "datatype: float64\n",
      "\n",
      "<nil>\n"
     ]
    }
   ],
   "source": [
    "s, _ := pd.Series([]float64{10, 11, 12, 13, 14, 15})\n",
    "s.Subset(s.GT(13))"
   ]
  },
  {
   "cell_type": "code",
   "execution_count": 80,
   "metadata": {},
   "outputs": [
    {
     "name": "stdout",
     "output_type": "stream",
     "text": [
      "4    14\n",
      "5    15\n",
      "\n",
      "datatype: int64\n",
      "\n",
      "<nil>\n"
     ]
    }
   ],
   "source": [
    "s, _ := pd.Series([]int{10, 11, 12, 13, 14, 15})\n",
    "s.Subset(s.GT(13))"
   ]
  },
  {
   "cell_type": "code",
   "execution_count": 81,
   "metadata": {},
   "outputs": [
    {
     "name": "stdout",
     "output_type": "stream",
     "text": [
      "3    13.00\n",
      "4    14.00\n",
      "5    15.00\n",
      "\n",
      "datatype: float64\n",
      "\n",
      "<nil>\n"
     ]
    }
   ],
   "source": [
    "s, _ := pd.Series([]float64{10, 11, 12, 13, 14, 15})\n",
    "s.Subset(s.GTE(13))"
   ]
  },
  {
   "cell_type": "code",
   "execution_count": 82,
   "metadata": {},
   "outputs": [
    {
     "name": "stdout",
     "output_type": "stream",
     "text": [
      "0    10.00\n",
      "1    11.00\n",
      "2    12.00\n",
      "\n",
      "datatype: float64\n",
      "\n",
      "<nil>\n"
     ]
    }
   ],
   "source": [
    "s, _ := pd.Series([]float64{10, 11, 12, 13, 14, 15})\n",
    "s.Subset(s.LT(13))"
   ]
  },
  {
   "cell_type": "code",
   "execution_count": 83,
   "metadata": {},
   "outputs": [
    {
     "name": "stdout",
     "output_type": "stream",
     "text": [
      "0    10.00\n",
      "1    11.00\n",
      "2    12.00\n",
      "3    13.00\n",
      "\n",
      "datatype: float64\n",
      "\n",
      "<nil>\n"
     ]
    }
   ],
   "source": [
    "s, _ := pd.Series([]float64{10, 11, 12, 13, 14, 15})\n",
    "s.Subset(s.LTE(13))"
   ]
  },
  {
   "cell_type": "code",
   "execution_count": 84,
   "metadata": {},
   "outputs": [
    {
     "name": "stdout",
     "output_type": "stream",
     "text": [
      "3    13.00\n",
      "\n",
      "datatype: float64\n",
      "\n",
      "<nil>\n"
     ]
    }
   ],
   "source": [
    "s, _ := pd.Series([]float64{10, 11, 12, 13, 14, 15})\n",
    "s.Subset(s.EQ(13))"
   ]
  },
  {
   "cell_type": "code",
   "execution_count": 85,
   "metadata": {},
   "outputs": [
    {
     "name": "stdout",
     "output_type": "stream",
     "text": [
      "0    10.00\n",
      "1    11.00\n",
      "2    12.00\n",
      "4    14.00\n",
      "5    15.00\n",
      "\n",
      "datatype: float64\n",
      "\n",
      "<nil>\n"
     ]
    }
   ],
   "source": [
    "s, _ := pd.Series([]float64{10, 11, 12, 13, 14, 15})\n",
    "s.Subset(s.NEQ(13))"
   ]
  },
  {
   "cell_type": "code",
   "execution_count": 86,
   "metadata": {},
   "outputs": [
    {
     "name": "stdout",
     "output_type": "stream",
     "text": [
      "1    bar\n",
      "2    baz\n",
      "\n",
      "datatype: string\n",
      "\n",
      "<nil>\n"
     ]
    }
   ],
   "source": [
    "s, _ := pd.Series([]string{\"foo\", \"bar\", \"baz\"})\n",
    "s.Subset(s.Contains(\"ba\"))"
   ]
  },
  {
   "cell_type": "code",
   "execution_count": 87,
   "metadata": {},
   "outputs": [
    {
     "name": "stdout",
     "output_type": "stream",
     "text": [
      "2    true\n",
      "\n",
      "datatype: bool\n",
      "\n",
      "<nil>\n"
     ]
    }
   ],
   "source": [
    "s, _ := pd.Series([]bool{false, false, true})\n",
    "s.Subset(s.True())"
   ]
  },
  {
   "cell_type": "code",
   "execution_count": 88,
   "metadata": {},
   "outputs": [
    {
     "name": "stdout",
     "output_type": "stream",
     "text": [
      "0    false\n",
      "1    false\n",
      "\n",
      "datatype: bool\n",
      "\n",
      "<nil>\n"
     ]
    }
   ],
   "source": [
    "s, _ := pd.Series([]bool{false, false, true})\n",
    "s.Subset(s.False())"
   ]
  },
  {
   "cell_type": "code",
   "execution_count": 89,
   "metadata": {},
   "outputs": [
    {
     "name": "stdout",
     "output_type": "stream",
     "text": [
      "0    1/1/2019T00:00:00\n",
      "\n",
      "datatype: dateTime\n",
      "\n",
      "<nil>\n"
     ]
    }
   ],
   "source": [
    "s, _ := pd.Series([]time.Time{time.Date(2019, 1, 1, 0,0,0,0, time.UTC), time.Date(2019, 1, 3, 0,0,0,0, time.UTC)})\n",
    "cmpDate := time.Date(2019, 1, 2, 0,0,0,0, time.UTC)\n",
    "s.Subset(s.Before(cmpDate))"
   ]
  },
  {
   "cell_type": "code",
   "execution_count": 90,
   "metadata": {},
   "outputs": [
    {
     "name": "stdout",
     "output_type": "stream",
     "text": [
      "1    1/3/2019T00:00:00\n",
      "\n",
      "datatype: dateTime\n",
      "\n",
      "<nil>\n"
     ]
    }
   ],
   "source": [
    "s, _ := pd.Series([]time.Time{time.Date(2019, 1, 1, 0,0,0,0, time.UTC), time.Date(2019, 1, 3, 0,0,0,0, time.UTC)})\n",
    "cmpDate := time.Date(2019, 1, 2, 0,0,0,0, time.UTC)\n",
    "s.Subset(s.After(cmpDate))"
   ]
  },
  {
   "cell_type": "markdown",
   "metadata": {},
   "source": [
    "## Apply"
   ]
  },
  {
   "cell_type": "code",
   "execution_count": 91,
   "metadata": {},
   "outputs": [
    {
     "name": "stdout",
     "output_type": "stream",
     "text": [
      "0    -1.46\n",
      "1    -0.88\n",
      "2    -0.29\n",
      "3     0.29\n",
      "4     0.88\n",
      "5     1.46\n",
      "\n",
      "datatype: float64\n",
      "\n"
     ]
    }
   ],
   "source": [
    "// Computing Z-score\n",
    "s, _ := pd.Series([]float64{10, 11, 12, 13, 14, 15})\n",
    "s.Apply(func(val interface{}) interface{}{\n",
    "    return ( val.(float64) - s.Mean()) / s.Std()\n",
    "})"
   ]
  },
  {
   "cell_type": "markdown",
   "metadata": {},
   "source": [
    "## Math"
   ]
  },
  {
   "cell_type": "code",
   "execution_count": 92,
   "metadata": {},
   "outputs": [
    {
     "name": "stdout",
     "output_type": "stream",
     "text": [
      "15\n"
     ]
    }
   ],
   "source": [
    "s, _ := pd.Series([]float64{1, 2, 3, 4, 5})\n",
    "s.Sum()"
   ]
  },
  {
   "cell_type": "code",
   "execution_count": 93,
   "metadata": {},
   "outputs": [
    {
     "name": "stdout",
     "output_type": "stream",
     "text": [
      "3\n"
     ]
    }
   ],
   "source": [
    "s, _ := pd.Series([]float64{1, 2, 3, 4, 5})\n",
    "s.Mean()"
   ]
  },
  {
   "cell_type": "code",
   "execution_count": 94,
   "metadata": {},
   "outputs": [
    {
     "name": "stdout",
     "output_type": "stream",
     "text": [
      "1\n"
     ]
    }
   ],
   "source": [
    "s, _ := pd.Series([]float64{1, 2, 3, 4, 5})\n",
    "s.Min()"
   ]
  },
  {
   "cell_type": "code",
   "execution_count": 95,
   "metadata": {},
   "outputs": [
    {
     "name": "stdout",
     "output_type": "stream",
     "text": [
      "5\n"
     ]
    }
   ],
   "source": [
    "s, _ := pd.Series([]float64{1, 2, 3, 4, 5})\n",
    "s.Max()"
   ]
  },
  {
   "cell_type": "code",
   "execution_count": 96,
   "metadata": {},
   "outputs": [
    {
     "name": "stdout",
     "output_type": "stream",
     "text": [
      "3\n"
     ]
    }
   ],
   "source": [
    "s, _ := pd.Series([]float64{1, 2, 3, 4, 5})\n",
    "s.Median()"
   ]
  },
  {
   "cell_type": "code",
   "execution_count": 97,
   "metadata": {},
   "outputs": [
    {
     "name": "stdout",
     "output_type": "stream",
     "text": [
      "1.4142135623730951\n"
     ]
    }
   ],
   "source": [
    "s, _ := pd.Series([]float64{1, 2, 3, 4, 5})\n",
    "s.Std()"
   ]
  },
  {
   "cell_type": "markdown",
   "metadata": {},
   "source": [
    "## Grouping"
   ]
  },
  {
   "cell_type": "code",
   "execution_count": 98,
   "metadata": {},
   "outputs": [
    {
     "name": "stdout",
     "output_type": "stream",
     "text": [
      "foo A    6.00\n",
      "         5.00\n",
      "    B    4.00\n",
      "bar A    3.00\n",
      "         2.00\n",
      "    B    1.00\n",
      "\n",
      "datatype: float64\n",
      "\n"
     ]
    }
   ],
   "source": [
    "s, _ := pd.Series([]float64{6, 5, 4, 3, 2, 1}, pd.Config{\n",
    "    MultiIndex: []interface{}{\n",
    "        []string{\"foo\", \"foo\", \"foo\", \"bar\", \"bar\", \"bar\"}, \n",
    "        []string{\"A\", \"A\", \"B\", \"A\", \"A\", \"B\"}}})\n",
    "s\n"
   ]
  },
  {
   "cell_type": "code",
   "execution_count": 99,
   "metadata": {
    "scrolled": true
   },
   "outputs": [
    {
     "name": "stdout",
     "output_type": "stream",
     "text": [
      "{Series Grouping | NumGroups: 4, Groups: [bar | A, bar | B, foo | A, foo | B]}\n",
      "\n"
     ]
    }
   ],
   "source": [
    "s.GroupByIndex()"
   ]
  },
  {
   "cell_type": "code",
   "execution_count": 100,
   "metadata": {},
   "outputs": [
    {
     "name": "stdout",
     "output_type": "stream",
     "text": [
      "A    6.00\n",
      "     5.00\n",
      "     3.00\n",
      "     2.00\n",
      "\n",
      "datatype: float64\n",
      "\n"
     ]
    }
   ],
   "source": [
    "s.GroupByIndex(1).Group(\"A\")"
   ]
  },
  {
   "cell_type": "code",
   "execution_count": 101,
   "metadata": {},
   "outputs": [
    {
     "name": "stdout",
     "output_type": "stream",
     "text": [
      "bar A     5.00\n",
      "    B     1.00\n",
      "foo A    11.00\n",
      "    B     4.00\n",
      "\n",
      "datatype: float64\n",
      "\n"
     ]
    }
   ],
   "source": [
    "s.GroupByIndex().Sum()"
   ]
  },
  {
   "cell_type": "code",
   "execution_count": 102,
   "metadata": {},
   "outputs": [
    {
     "name": "stdout",
     "output_type": "stream",
     "text": [
      "bar     6.00\n",
      "foo    15.00\n",
      "\n",
      "datatype: float64\n",
      "\n"
     ]
    }
   ],
   "source": [
    "s.GroupByIndex(0).Sum()"
   ]
  },
  {
   "cell_type": "code",
   "execution_count": 103,
   "metadata": {},
   "outputs": [
    {
     "name": "stdout",
     "output_type": "stream",
     "text": [
      "A    16.00\n",
      "B     5.00\n",
      "\n",
      "datatype: float64\n",
      "\n"
     ]
    }
   ],
   "source": [
    "s.GroupByIndex(1).Sum()"
   ]
  },
  {
   "cell_type": "code",
   "execution_count": 104,
   "metadata": {},
   "outputs": [
    {
     "name": "stdout",
     "output_type": "stream",
     "text": [
      "bar A    3.00\n",
      "    B    1.00\n",
      "foo A    6.00\n",
      "    B    4.00\n",
      "\n",
      "datatype: float64\n",
      "\n"
     ]
    }
   ],
   "source": [
    "s.GroupByIndex().First()"
   ]
  },
  {
   "cell_type": "code",
   "execution_count": 105,
   "metadata": {},
   "outputs": [
    {
     "name": "stdout",
     "output_type": "stream",
     "text": [
      "bar A    2.00\n",
      "    B    1.00\n",
      "foo A    5.00\n",
      "    B    4.00\n",
      "\n",
      "datatype: float64\n",
      "\n"
     ]
    }
   ],
   "source": [
    "s.GroupByIndex().Last()"
   ]
  },
  {
   "cell_type": "markdown",
   "metadata": {},
   "source": [
    "## Merge"
   ]
  },
  {
   "cell_type": "code",
   "execution_count": 106,
   "metadata": {},
   "outputs": [
    {
     "name": "stdout",
     "output_type": "stream",
     "text": [
      "0    1.00\n",
      "1    2.00\n",
      "2    3.00\n",
      "0    4.00\n",
      "\n",
      "datatype: float64\n",
      "\n"
     ]
    }
   ],
   "source": [
    "s, _ := pd.Series([]float64{1, 2, 3})\n",
    "s2, _ := pd.Series([]float64{4})\n",
    "s.InPlace.Join(s2)\n",
    "s"
   ]
  },
  {
   "cell_type": "code",
   "execution_count": 107,
   "metadata": {},
   "outputs": [
    {
     "name": "stdout",
     "output_type": "stream",
     "text": [
      "0    1.00\n",
      "1    2.00\n",
      "2    3.00\n",
      "0    4.00\n",
      "\n",
      "datatype: float64\n",
      "\n",
      "<nil>\n"
     ]
    }
   ],
   "source": [
    "s, _ := pd.Series([]float64{1, 2, 3})\n",
    "s2, _ := pd.Series([]float64{4})\n",
    "s.Join(s2)"
   ]
  },
  {
   "cell_type": "code",
   "execution_count": 108,
   "metadata": {},
   "outputs": [
    {
     "name": "stdout",
     "output_type": "stream",
     "text": [
      "0    4.00\n",
      "1     NaN\n",
      "2     NaN\n",
      "\n",
      "datatype: float64\n",
      "\n"
     ]
    }
   ],
   "source": [
    "s, _ := pd.Series([]float64{1, 2, 3})\n",
    "s2, _ := pd.Series([]float64{4})\n",
    "s.LookupSeries(s2)"
   ]
  }
 ],
 "metadata": {
  "kernelspec": {
   "display_name": "Go (lgo)",
   "language": "go",
   "name": "lgo"
  },
  "language_info": {
   "file_extension": "",
   "mimetype": "",
   "name": "go",
   "version": ""
  }
 },
 "nbformat": 4,
 "nbformat_minor": 2
}
