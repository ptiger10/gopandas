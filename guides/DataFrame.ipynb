{
 "cells": [
  {
   "cell_type": "code",
   "execution_count": 1,
   "metadata": {},
   "outputs": [],
   "source": [
    "import \"github.com/ptiger10/pd\"\n",
    "import \"time\""
   ]
  },
  {
   "cell_type": "markdown",
   "metadata": {},
   "source": [
    "# Constructor"
   ]
  },
  {
   "cell_type": "code",
   "execution_count": 2,
   "metadata": {},
   "outputs": [
    {
     "name": "stdout",
     "output_type": "stream",
     "text": [
      "        0  1    2      3                  4      5\n",
      "0    1.50  1  foo   true  1/1/2019T00:00:00      A\n",
      "1    2.50  2  bar   true  1/2/2019T00:00:00      1\n",
      "2    3.00  3  baz  false  1/3/2019T00:00:00  false\n",
      "\n",
      "<nil>\n"
     ]
    }
   ],
   "source": [
    "t1 := time.Date(2019, 1, 1, 0,0,0,0,time.UTC)\n",
    "t2 := t1.AddDate(0,0,1)\n",
    "t3 := t2.AddDate(0,0,1)\n",
    "pd.DataFrame([]interface{}{\n",
    "    []float64{1.5, 2.5, 3},\n",
    "    []int64{1,2,3},\n",
    "    []string{\"foo\", \"bar\", \"baz\"},\n",
    "    []bool{true, true, false},\n",
    "    []time.Time{t1, t2, t3},\n",
    "    []interface{}{\"A\", 1, false},\n",
    "})"
   ]
  },
  {
   "cell_type": "code",
   "execution_count": 3,
   "metadata": {},
   "outputs": [
    {
     "name": "stdout",
     "output_type": "stream",
     "text": [
      "        0     1\n",
      "0    1.50  1.00\n",
      "1    2.50  2.00\n",
      "2    3.00  3.00\n",
      "\n",
      "datatype: float64\n",
      "\n",
      "<nil>\n"
     ]
    }
   ],
   "source": [
    "import \"github.com/ptiger10/pd/options\"\n",
    "pd.DataFrame(\n",
    "    []interface{}{\n",
    "        []float64{1.5, 2.5, 3},\n",
    "        []int64{1,2,3},\n",
    "    },\n",
    "    pd.Config{DataType: options.Float64},\n",
    ")"
   ]
  },
  {
   "cell_type": "code",
   "execution_count": 4,
   "metadata": {},
   "outputs": [
    {
     "name": "stdout",
     "output_type": "stream",
     "text": [
      "       0\n",
      "0    foo\n",
      "1    bar\n",
      "\n",
      "datatype: string\n",
      "name: baz\n",
      "\n",
      "<nil>\n"
     ]
    }
   ],
   "source": [
    "pd.DataFrame(\n",
    "    []interface{}{\n",
    "        []string{\"foo\",\"bar\"},\n",
    "    },\n",
    "    pd.Config{Name: \"baz\"},\n",
    ")"
   ]
  },
  {
   "cell_type": "code",
   "execution_count": 5,
   "metadata": {},
   "outputs": [
    {
     "name": "stdout",
     "output_type": "stream",
     "text": [
      "         0\n",
      "baz    foo\n",
      "qux    bar\n",
      "\n",
      "datatype: string\n",
      "\n",
      "<nil>\n"
     ]
    }
   ],
   "source": [
    "pd.DataFrame(\n",
    "    []interface{}{\n",
    "        []string{\"foo\",\"bar\"},\n",
    "    },\n",
    "    pd.Config{Index: []string{\"baz\", \"qux\"}},\n",
    ")"
   ]
  },
  {
   "cell_type": "code",
   "execution_count": 6,
   "metadata": {},
   "outputs": [
    {
     "name": "stdout",
     "output_type": "stream",
     "text": [
      "     baz  qux\n",
      "0    foo  bar\n",
      "\n",
      "datatype: string\n",
      "\n",
      "<nil>\n"
     ]
    }
   ],
   "source": [
    "pd.DataFrame(\n",
    "    []interface{}{\n",
    "        []string{\"foo\"},[]string{\"bar\"},\n",
    "    },\n",
    "    pd.Config{Col: []string{\"baz\", \"qux\"}},\n",
    ")"
   ]
  },
  {
   "cell_type": "code",
   "execution_count": 7,
   "metadata": {},
   "outputs": [
    {
     "name": "stdout",
     "output_type": "stream",
     "text": [
      "     baz  qux\n",
      "0    foo  bar\n",
      "\n",
      "datatype: string\n",
      "\n",
      "<nil>\n"
     ]
    }
   ],
   "source": [
    "// Equivalent to the cell above for single-value columns, but less verbose\n",
    "pd.DataFrame(\n",
    "    []interface{}{\"foo\",\"bar\"},\n",
    "    pd.Config{Col: []string{\"baz\", \"qux\"}},\n",
    ")"
   ]
  },
  {
   "cell_type": "markdown",
   "metadata": {},
   "source": [
    "### MultiIndex and MultiCol"
   ]
  },
  {
   "cell_type": "code",
   "execution_count": 8,
   "metadata": {},
   "outputs": [
    {
     "name": "stdout",
     "output_type": "stream",
     "text": [
      "                0    1\n",
      "quux corge    foo  baz\n",
      "quuz  fred    bar  qux\n",
      "\n",
      "datatype: string\n",
      "\n",
      "<nil>\n"
     ]
    }
   ],
   "source": [
    "pd.DataFrame(\n",
    "    []interface{}{\n",
    "        []string{\"foo\",\"bar\"},\n",
    "        []string{\"baz\",\"qux\"},\n",
    "    },\n",
    "    pd.Config{MultiIndex: []interface{}{\n",
    "        []string{\"quux\", \"quuz\"},\n",
    "        []string{\"corge\", \"fred\"},\n",
    "    }},\n",
    ")"
   ]
  },
  {
   "cell_type": "code",
   "execution_count": 9,
   "metadata": {},
   "outputs": [
    {
     "name": "stdout",
     "output_type": "stream",
     "text": [
      "      quux  quuz\n",
      "     corge  fred\n",
      "0      foo   baz\n",
      "1      bar   qux\n",
      "\n",
      "datatype: string\n",
      "\n",
      "<nil>\n"
     ]
    }
   ],
   "source": [
    "pd.DataFrame(\n",
    "    []interface{}{\n",
    "        []string{\"foo\",\"bar\"},\n",
    "        []string{\"baz\",\"qux\"},\n",
    "    },\n",
    "    pd.Config{MultiCol: [][]string{\n",
    "        []string{\"quux\", \"quuz\"},\n",
    "        []string{\"corge\", \"fred\"},\n",
    "    }},\n",
    ")"
   ]
  },
  {
   "cell_type": "markdown",
   "metadata": {},
   "source": [
    "## Modify"
   ]
  },
  {
   "cell_type": "code",
   "execution_count": 10,
   "metadata": {},
   "outputs": [
    {
     "name": "stdout",
     "output_type": "stream",
     "text": [
      "{InPlace DataFrame Handler}\n",
      "Methods:\n",
      "AppendCol\n",
      "AppendRow\n",
      "Convert\n",
      "DropCol\n",
      "DropCols\n",
      "DropDuplicates\n",
      "DropNull\n",
      "DropRow\n",
      "DropRows\n",
      "InsertCol\n",
      "InsertRow\n",
      "Len\n",
      "ResetIndex\n",
      "Set\n",
      "SetCol\n",
      "SetCols\n",
      "SetIndex\n",
      "SetRow\n",
      "SetRows\n",
      "String\n",
      "SubsetColumns\n",
      "SubsetRows\n",
      "SwapColumns\n",
      "SwapRows\n",
      "ToBool\n",
      "ToDateTime\n",
      "ToFloat64\n",
      "ToInt64\n",
      "ToInterface\n",
      "ToString\n",
      "\n"
     ]
    }
   ],
   "source": [
    "df, _ := pd.DataFrame([]interface{}{\"foo\",\"bar\"})\n",
    "df.InPlace"
   ]
  },
  {
   "cell_type": "code",
   "execution_count": 11,
   "metadata": {},
   "outputs": [
    {
     "name": "stdout",
     "output_type": "stream",
     "text": [
      "       0\n",
      "1    bar\n",
      "0    foo\n",
      "\n",
      "datatype: string\n",
      "\n"
     ]
    }
   ],
   "source": [
    "df, _ := pd.DataFrame([]interface{}{[]string{\"foo\", \"bar\"}})\n",
    "df.InPlace.SwapRows(0,1)\n",
    "df"
   ]
  },
  {
   "cell_type": "code",
   "execution_count": 12,
   "metadata": {},
   "outputs": [
    {
     "name": "stdout",
     "output_type": "stream",
     "text": [
      "       0\n",
      "0    foo\n",
      "2    baz\n",
      "1    bar\n",
      "\n",
      "datatype: string\n",
      "\n"
     ]
    }
   ],
   "source": [
    "df, _ := pd.DataFrame([]interface{}{[]string{\"foo\", \"bar\"}})\n",
    "df.InPlace.InsertRow(1,[]interface{}{\"baz\"}, 2)\n",
    "df"
   ]
  },
  {
   "cell_type": "code",
   "execution_count": 13,
   "metadata": {},
   "outputs": [
    {
     "name": "stdout",
     "output_type": "stream",
     "text": [
      "       0\n",
      "0    foo\n",
      "1    baz\n",
      "2    bar\n",
      "\n",
      "datatype: string\n",
      "\n"
     ]
    }
   ],
   "source": [
    "df, _ := pd.DataFrame([]interface{}{[]string{\"foo\", \"bar\"}})\n",
    "df.InPlace.InsertRow(1,[]interface{}{\"baz\"})\n",
    "df"
   ]
  },
  {
   "cell_type": "code",
   "execution_count": 21,
   "metadata": {},
   "outputs": [
    {
     "name": "stdout",
     "output_type": "stream",
     "text": [
      "       0    1    2\n",
      "0    foo  baz  bar\n",
      "\n",
      "datatype: string\n",
      "\n"
     ]
    }
   ],
   "source": [
    "df, _ := pd.DataFrame([]interface{}{\"foo\", \"bar\"})\n",
    "s, _ := pd.Series(\"baz\")\n",
    "df.InPlace.InsertCol(1, s)\n",
    "df"
   ]
  },
  {
   "cell_type": "code",
   "execution_count": 24,
   "metadata": {},
   "outputs": [
    {
     "name": "stdout",
     "output_type": "stream",
     "text": [
      "       0   10    1\n",
      "0    foo  baz  bar\n",
      "\n",
      "datatype: string\n",
      "\n"
     ]
    }
   ],
   "source": [
    "df, _ := pd.DataFrame([]interface{}{\"foo\", \"bar\"})\n",
    "s, _ := pd.Series(\"baz\")\n",
    "df.InPlace.InsertCol(1, s, \"10\")\n",
    "df"
   ]
  },
  {
   "cell_type": "code",
   "execution_count": 17,
   "metadata": {},
   "outputs": [
    {
     "name": "stdout",
     "output_type": "stream",
     "text": [
      "       0\n",
      "0    foo\n",
      "1    bar\n",
      "2    baz\n",
      "\n",
      "datatype: string\n",
      "\n"
     ]
    }
   ],
   "source": [
    "df, _ := pd.DataFrame([]interface{}{[]string{\"foo\", \"bar\"}})\n",
    "df.InPlace.AppendRow([]interface{}{\"baz\"}, 2)\n",
    "df"
   ]
  },
  {
   "cell_type": "code",
   "execution_count": 18,
   "metadata": {},
   "outputs": [
    {
     "name": "stdout",
     "output_type": "stream",
     "text": [
      "       0    1\n",
      "0    foo  qux\n",
      "1    baz  baz\n",
      "\n",
      "datatype: string\n",
      "\n"
     ]
    }
   ],
   "source": [
    "df, _ := pd.DataFrame([]interface{}{\n",
    "    []string{\"foo\", \"bar\"}, \n",
    "    []string{\"qux\", \"quux\"},\n",
    "})\n",
    "df.InPlace.SetRow(1, \"baz\")\n",
    "df"
   ]
  },
  {
   "cell_type": "code",
   "execution_count": 27,
   "metadata": {},
   "outputs": [
    {
     "name": "stdout",
     "output_type": "stream",
     "text": [
      "       0     1\n",
      "0    foo   QUX\n",
      "1    bar  QUUX\n",
      "\n",
      "datatype: string\n",
      "\n"
     ]
    }
   ],
   "source": [
    "import \"strings\"\n",
    "df, _ := pd.DataFrame([]interface{}{\n",
    "    []string{\"foo\", \"bar\"}, \n",
    "    []string{\"qux\", \"quux\"},\n",
    "})\n",
    "df.InPlace.SetCol(1, df.Col(\"1\").Apply(func(val interface{}) interface{}{\n",
    "    return strings.ToUpper(val.(string))\n",
    "}))\n",
    "df"
   ]
  },
  {
   "cell_type": "code",
   "execution_count": 28,
   "metadata": {},
   "outputs": [
    {
     "name": "stdout",
     "output_type": "stream",
     "text": [
      "       0    1\n",
      "0    foo  qux\n",
      "\n",
      "datatype: string\n",
      "\n"
     ]
    }
   ],
   "source": [
    "df, _ := pd.DataFrame([]interface{}{\n",
    "    []string{\"foo\", \"bar\"}, \n",
    "    []string{\"qux\", \"quux\"},\n",
    "})\n",
    "df.InPlace.DropRow(1)\n",
    "df"
   ]
  },
  {
   "cell_type": "code",
   "execution_count": 29,
   "metadata": {},
   "outputs": [
    {
     "name": "stdout",
     "output_type": "stream",
     "text": [
      "       0\n",
      "0    foo\n",
      "1    bar\n",
      "\n",
      "datatype: string\n",
      "\n"
     ]
    }
   ],
   "source": [
    "df, _ := pd.DataFrame([]interface{}{\n",
    "    []string{\"foo\", \"bar\"}, \n",
    "    []string{\"qux\", \"quux\"},\n",
    "})\n",
    "df.InPlace.DropCol(1)\n",
    "df"
   ]
  },
  {
   "cell_type": "code",
   "execution_count": 30,
   "metadata": {},
   "outputs": [
    {
     "name": "stdout",
     "output_type": "stream",
     "text": [
      "           0     1\n",
      " fred    foo   qux\n",
      "waldo    baz  quuz\n",
      "\n",
      "datatype: string\n",
      "\n"
     ]
    }
   ],
   "source": [
    "df, _ := pd.DataFrame(\n",
    "    []interface{}{\n",
    "        []string{\"foo\", \"foo\", \"baz\"}, \n",
    "        []string{\"qux\", \"qux\", \"quuz\"},\n",
    "    },\n",
    "    pd.Config{Index: []string{\"fred\", \"fred\", \"waldo\"}},\n",
    ")\n",
    "df.InPlace.DropDuplicates()\n",
    "df"
   ]
  },
  {
   "cell_type": "markdown",
   "metadata": {},
   "source": [
    "## Select"
   ]
  },
  {
   "cell_type": "code",
   "execution_count": 31,
   "metadata": {},
   "outputs": [
    {
     "name": "stdout",
     "output_type": "stream",
     "text": [
      "0     qux\n",
      "1    quux\n",
      "\n",
      "datatype: string\n",
      "name: B\n",
      "\n"
     ]
    }
   ],
   "source": [
    "df, _ := pd.DataFrame(\n",
    "    []interface{}{\n",
    "        []string{\"foo\", \"bar\"}, \n",
    "        []string{\"qux\", \"quux\"},\n",
    "    },\n",
    "    pd.Config{Col: []string{\"A\", \"B\"}},\n",
    ")\n",
    "\n",
    "df.Col(\"B\")"
   ]
  },
  {
   "cell_type": "code",
   "execution_count": 32,
   "metadata": {},
   "outputs": [
    {
     "name": "stdout",
     "output_type": "stream",
     "text": [
      "     A     B\n",
      "0    1  2.00\n",
      "1    3  4.00\n",
      "2    5  6.00\n",
      "\n"
     ]
    }
   ],
   "source": [
    "df, _ := pd.DataFrame(\n",
    "    []interface{}{\n",
    "        []int{1, 3, 5}, \n",
    "        []int{2, 4, 6},\n",
    "    },\n",
    "    pd.Config{Col: []string{\"A\", \"B\"}},\n",
    ")\n",
    "\n",
    "df.Set(\"B\", df.Col(\"B\").ToFloat64())"
   ]
  },
  {
   "cell_type": "markdown",
   "metadata": {},
   "source": [
    "## Grouping"
   ]
  },
  {
   "cell_type": "code",
   "execution_count": 34,
   "metadata": {},
   "outputs": [
    {
     "name": "stdout",
     "output_type": "stream",
     "text": [
      "       A      B  C  D\n",
      "0    foo  corge  1  2\n",
      "1    foo  corge  3  4\n",
      "2    bar  corge  5  6\n",
      "3    bar    qux  7  8\n",
      "\n"
     ]
    }
   ],
   "source": [
    "df, _ := pd.DataFrame(\n",
    "    []interface{}{\n",
    "        []string{\"foo\", \"foo\", \"bar\", \"bar\"}, \n",
    "        []string{\"corge\", \"corge\", \"corge\", \"qux\"},\n",
    "        []int{1, 3, 5, 7},\n",
    "        []int{2, 4, 6, 8},\n",
    "    },\n",
    "    pd.Config{Col: []string{\"A\", \"B\", \"C\", \"D\"}},\n",
    ")\n",
    "df"
   ]
  },
  {
   "cell_type": "code",
   "execution_count": 36,
   "metadata": {},
   "outputs": [
    {
     "name": "stdout",
     "output_type": "stream",
     "text": [
      "           C      D\n",
      "foo     4.00   6.00\n",
      "bar    12.00  14.00\n",
      "\n",
      "datatype: float64\n",
      "\n"
     ]
    }
   ],
   "source": [
    "a := df.SelectCol(\"A\")\n",
    "df.GroupBy(a).Sum()"
   ]
  },
  {
   "cell_type": "code",
   "execution_count": 37,
   "metadata": {},
   "outputs": [
    {
     "name": "stdout",
     "output_type": "stream",
     "text": [
      "                C     D\n",
      "corge foo    4.00  6.00\n",
      "      bar    5.00  6.00\n",
      "  qux        7.00  8.00\n",
      "\n",
      "datatype: float64\n",
      "\n"
     ]
    }
   ],
   "source": [
    "b := df.SelectCol(\"B\")\n",
    "df.GroupBy(b, a).Sum()"
   ]
  },
  {
   "cell_type": "markdown",
   "metadata": {},
   "source": [
    "## Pivot"
   ]
  },
  {
   "cell_type": "code",
   "execution_count": 38,
   "metadata": {},
   "outputs": [
    {
     "name": "stdout",
     "output_type": "stream",
     "text": [
      "       A      B  C  D\n",
      "0    foo  corge  1  2\n",
      "1    foo  corge  3  4\n",
      "2    bar  corge  5  6\n",
      "3    bar    qux  7  8\n",
      "\n"
     ]
    }
   ],
   "source": [
    "df, _ := pd.DataFrame(\n",
    "    []interface{}{\n",
    "        []string{\"foo\", \"foo\", \"bar\", \"bar\"}, \n",
    "        []string{\"corge\", \"corge\", \"corge\", \"qux\"},\n",
    "        []int{1, 3, 5, 7},\n",
    "                []int{2, 4, 6, 8},\n",
    "    },\n",
    "    pd.Config{Col: []string{\"A\", \"B\", \"C\", \"D\"}},\n",
    ")\n",
    "df"
   ]
  },
  {
   "cell_type": "code",
   "execution_count": 43,
   "metadata": {},
   "outputs": [
    {
     "name": "stdout",
     "output_type": "stream",
     "text": [
      "       corge   qux\n",
      "foo     2.00   NaN\n",
      "bar     5.00  7.00\n",
      "\n",
      "datatype: float64\n",
      "\n",
      "<nil>\n"
     ]
    }
   ],
   "source": [
    "df.Pivot(0, 2, 1, \"mean\")"
   ]
  },
  {
   "cell_type": "code",
   "execution_count": 42,
   "metadata": {},
   "outputs": [
    {
     "name": "stdout",
     "output_type": "stream",
     "text": [
      "       corge   qux\n",
      "foo     6.00   NaN\n",
      "bar     6.00  8.00\n",
      "\n",
      "datatype: float64\n",
      "\n",
      "<nil>\n"
     ]
    }
   ],
   "source": [
    "df.Pivot(0, 3, 1, \"sum\")"
   ]
  },
  {
   "cell_type": "markdown",
   "metadata": {},
   "source": [
    "## From/To CSV"
   ]
  },
  {
   "cell_type": "code",
   "execution_count": 52,
   "metadata": {},
   "outputs": [
    {
     "name": "stdout",
     "output_type": "stream",
     "text": [
      "          dogs  cats  iguanas  category\n",
      "sandra      10    20       15   teacher\n",
      " janet      10     4        5   teacher\n",
      "  elon       4     3        4   teacher\n",
      "  john       6     1        8   student\n",
      "  jeff       2     5       19   student\n",
      "  rose      40    29        5   student\n",
      "\n"
     ]
    }
   ],
   "source": [
    "df, _ := pd.ReadCSV(\"sample.csv\", pd.ReadOptions{HeaderRows: 1, IndexCols: 1})\n",
    "df"
   ]
  },
  {
   "cell_type": "code",
   "execution_count": 47,
   "metadata": {},
   "outputs": [
    {
     "name": "stdout",
     "output_type": "stream",
     "text": [
      "   dogs    72.00\n",
      "   cats    62.00\n",
      "iguanas    56.00\n",
      "\n",
      "datatype: float64\n",
      "name: sum\n",
      "\n"
     ]
    }
   ],
   "source": [
    "df.Sum()"
   ]
  },
  {
   "cell_type": "code",
   "execution_count": 48,
   "metadata": {},
   "outputs": [],
   "source": [
    "df.GroupBy(df.SelectCol(\"category\")).Median().ExportToCSV(\"output.csv\")"
   ]
  },
  {
   "cell_type": "code",
   "execution_count": 53,
   "metadata": {},
   "outputs": [
    {
     "name": "stdout",
     "output_type": "stream",
     "text": [
      "          dogs  cats  iguanas  category\n",
      "sandra      20    20       15   teacher\n",
      " janet      20     4        5   teacher\n",
      "  elon       8     3        4   teacher\n",
      "  john      12     1        8   student\n",
      "  jeff       4     5       19   student\n",
      "  rose      80    29        5   student\n",
      "\n"
     ]
    }
   ],
   "source": [
    "df.InPlace.Set(\"dogs\", df.Col(\"dogs\").Apply(func(val interface{}) interface{} { return val.(int64)*2}))\n",
    "df"
   ]
  },
  {
   "cell_type": "code",
   "execution_count": 54,
   "metadata": {},
   "outputs": [],
   "source": [
    "df.ExportToCSV(\"output_sample.csv\")"
   ]
  }
 ],
 "metadata": {
  "kernelspec": {
   "display_name": "Go (lgo)",
   "language": "go",
   "name": "lgo"
  },
  "language_info": {
   "file_extension": "",
   "mimetype": "",
   "name": "go",
   "version": ""
  }
 },
 "nbformat": 4,
 "nbformat_minor": 2
}
